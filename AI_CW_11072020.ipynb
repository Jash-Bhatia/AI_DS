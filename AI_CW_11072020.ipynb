{
  "nbformat": 4,
  "nbformat_minor": 0,
  "metadata": {
    "colab": {
      "name": "AI_CW_11072020.ipynb",
      "provenance": [],
      "collapsed_sections": [],
      "authorship_tag": "ABX9TyNir+YkaX4Ljw401AXklydF",
      "include_colab_link": true
    },
    "kernelspec": {
      "name": "python3",
      "display_name": "Python 3"
    }
  },
  "cells": [
    {
      "cell_type": "markdown",
      "metadata": {
        "id": "view-in-github",
        "colab_type": "text"
      },
      "source": [
        "<a href=\"https://colab.research.google.com/github/Jash-Bhatia/AI_DS/blob/master/AI_CW_11072020.ipynb\" target=\"_parent\"><img src=\"https://colab.research.google.com/assets/colab-badge.svg\" alt=\"Open In Colab\"/></a>"
      ]
    },
    {
      "cell_type": "code",
      "metadata": {
        "id": "NHGc-UVl3Nba",
        "colab_type": "code",
        "colab": {}
      },
      "source": [
        "# define a function\n",
        "# name mangling"
      ],
      "execution_count": null,
      "outputs": []
    },
    {
      "cell_type": "code",
      "metadata": {
        "id": "sro9jfOd3dRm",
        "colab_type": "code",
        "colab": {}
      },
      "source": [
        "a = 9"
      ],
      "execution_count": null,
      "outputs": []
    },
    {
      "cell_type": "code",
      "metadata": {
        "id": "RsNX7pyt3dVJ",
        "colab_type": "code",
        "colab": {
          "base_uri": "https://localhost:8080/",
          "height": 35
        },
        "outputId": "860bac88-040a-42b1-f2f2-18dc6da80508"
      },
      "source": [
        "str(a)"
      ],
      "execution_count": null,
      "outputs": [
        {
          "output_type": "execute_result",
          "data": {
            "application/vnd.google.colaboratory.intrinsic": {
              "type": "string"
            },
            "text/plain": [
              "'9'"
            ]
          },
          "metadata": {
            "tags": []
          },
          "execution_count": 3
        }
      ]
    },
    {
      "cell_type": "code",
      "metadata": {
        "id": "NcSQ85hd3dZ8",
        "colab_type": "code",
        "colab": {
          "base_uri": "https://localhost:8080/",
          "height": 231
        },
        "outputId": "3c672698-000c-4f63-a9af-0219ceaee8d3"
      },
      "source": [
        "class Student: \n",
        "\n",
        "    def __init__(self, name): \n",
        "        self.__name = name \n",
        "        self.__age = 9\n",
        "    \n",
        "    def displayName(self): \n",
        "        print(self.__name) \n",
        "\n",
        "s1 = Student(\"Santhosh\") \n",
        "\n",
        "s1.displayName() \n",
        " \n",
        "\n",
        "# Raises an error \n",
        "print(getattr(s1,\"__name\"))\n",
        "print(s1.__name)"
      ],
      "execution_count": null,
      "outputs": [
        {
          "output_type": "stream",
          "text": [
            "Santhosh\n"
          ],
          "name": "stdout"
        },
        {
          "output_type": "error",
          "ename": "AttributeError",
          "evalue": "ignored",
          "traceback": [
            "\u001b[0;31m---------------------------------------------------------------------------\u001b[0m",
            "\u001b[0;31mAttributeError\u001b[0m                            Traceback (most recent call last)",
            "\u001b[0;32m<ipython-input-4-e7a26a689fa8>\u001b[0m in \u001b[0;36m<module>\u001b[0;34m()\u001b[0m\n\u001b[1;32m     14\u001b[0m \u001b[0;34m\u001b[0m\u001b[0m\n\u001b[1;32m     15\u001b[0m \u001b[0;31m# Raises an error\u001b[0m\u001b[0;34m\u001b[0m\u001b[0;34m\u001b[0m\u001b[0;34m\u001b[0m\u001b[0m\n\u001b[0;32m---> 16\u001b[0;31m \u001b[0mprint\u001b[0m\u001b[0;34m(\u001b[0m\u001b[0mgetattr\u001b[0m\u001b[0;34m(\u001b[0m\u001b[0ms1\u001b[0m\u001b[0;34m,\u001b[0m\u001b[0;34m\"__name\"\u001b[0m\u001b[0;34m)\u001b[0m\u001b[0;34m)\u001b[0m\u001b[0;34m\u001b[0m\u001b[0;34m\u001b[0m\u001b[0m\n\u001b[0m\u001b[1;32m     17\u001b[0m \u001b[0mprint\u001b[0m\u001b[0;34m(\u001b[0m\u001b[0ms1\u001b[0m\u001b[0;34m.\u001b[0m\u001b[0m__name\u001b[0m\u001b[0;34m)\u001b[0m\u001b[0;34m\u001b[0m\u001b[0;34m\u001b[0m\u001b[0m\n",
            "\u001b[0;31mAttributeError\u001b[0m: 'Student' object has no attribute '__name'"
          ]
        }
      ]
    },
    {
      "cell_type": "code",
      "metadata": {
        "id": "U188Ikd33ddY",
        "colab_type": "code",
        "colab": {}
      },
      "source": [
        "dir(s1)"
      ],
      "execution_count": null,
      "outputs": []
    },
    {
      "cell_type": "code",
      "metadata": {
        "id": "B9zi9_PL3dX3",
        "colab_type": "code",
        "colab": {}
      },
      "source": [
        ""
      ],
      "execution_count": null,
      "outputs": []
    },
    {
      "cell_type": "markdown",
      "metadata": {
        "id": "EPB3jxtiRVUk",
        "colab_type": "text"
      },
      "source": [
        "# ***Python Underscore Naming Patterns – Summary***\n",
        "\n",
        "*Single Leading Underscore\t(_var) :* Naming convention indicating a name is meant for internal use. Generally not enforced by the Python interpreter (except in wildcard imports) and meant as a hint to the programmer only.\n",
        "\n",
        "*Single Trailing Underscore\t(var_) :*\tUsed by convention to avoid naming conflicts with Python keywords, i.e. for using reserve keywords as variable names. \n",
        "\n",
        "*Double Leading Underscore\t(__var)\t:* Triggers name mangling when used in a class context. Enforced by the Python interpreter.\n",
        "\n",
        "*Double Leading and Trailing Underscore\t(__ var __)\t:* Indicates special methods defined by the Python language. Avoid this naming scheme for your own attributes.\n",
        "\n",
        "*Single Underscore\t(_)\t:* Sometimes used as a name for temporary or insignificant variables (“don’t care”). Also: The result of the last expression in a Python REPL.\n",
        "\n",
        "ref. https://dbader.org/blog/meaning-of-underscores-in-python\n",
        "\n"
      ]
    },
    {
      "cell_type": "code",
      "metadata": {
        "id": "GjhQuD5yLE7K",
        "colab_type": "code",
        "colab": {}
      },
      "source": [
        "# Create a custom class DataRead to read csv file using pandas\n",
        "# Create a custom function RowSelect within the class to select any 2 rows of the the the dataframe\n",
        "# Create a sub class of DataRead1 as  DataRead2  that has function for correlation plots (using any lib for correlation plot)\n",
        "# Within DataRead2 also create a function to override the custom function of DataRead1 RowSelect to select 3 rows"
      ],
      "execution_count": null,
      "outputs": []
    },
    {
      "cell_type": "code",
      "metadata": {
        "id": "DruS1cicVkCE",
        "colab_type": "code",
        "colab": {
          "base_uri": "https://localhost:8080/",
          "height": 71
        },
        "outputId": "2f1c8ad4-d8f4-46d8-a104-7a8245e1eabd"
      },
      "source": [
        "import numpy as np\n",
        "import pandas as pd\n",
        "import matplotlib.pyplot as plt\n",
        "import seaborn as sn\n",
        "\n",
        "## Questions;\n",
        "## 1) should libraries be called outside or within the class?\n",
        " # 2) will calling them within the scope of the class limit it to the class itself?"
      ],
      "execution_count": 81,
      "outputs": [
        {
          "output_type": "stream",
          "text": [
            "/usr/local/lib/python3.6/dist-packages/statsmodels/tools/_testing.py:19: FutureWarning: pandas.util.testing is deprecated. Use the functions in the public API at pandas.testing instead.\n",
            "  import pandas.util.testing as tm\n"
          ],
          "name": "stderr"
        }
      ]
    },
    {
      "cell_type": "code",
      "metadata": {
        "id": "pxpTHoIFVkEm",
        "colab_type": "code",
        "colab": {}
      },
      "source": [
        "class DataRead:\n",
        "  \n",
        "  import pandas as pd\n",
        "\n",
        "  def read():\n",
        "    \n",
        "    filename = str(input(\"enter file name: \"))\n",
        "    a = pd.read_csv(filename)\n",
        "    return a\n",
        "\n",
        "  def rowselect():\n",
        "    a = DataRead.read()\n",
        "    a = np.array(a)\n",
        "    print(\"Shape of data \",a.shape)\n",
        "    print(\"enter number for 1st row:\")\n",
        "    x = int(input())\n",
        "    print(\"enter number for 2nd row:\")\n",
        "    y = int(input())\n",
        "\n",
        "    b = np.array([a[x,:],a[y,:]])\n",
        "    return b"
      ],
      "execution_count": 94,
      "outputs": []
    },
    {
      "cell_type": "code",
      "metadata": {
        "id": "YJi9wDtYZBLd",
        "colab_type": "code",
        "colab": {
          "base_uri": "https://localhost:8080/",
          "height": 170
        },
        "outputId": "fb4c2fed-792e-4933-8262-ac8792ed8fb0"
      },
      "source": [
        "rows = DataRead.rowselect()\n",
        "print(\"Required rows: \\n\",rows)"
      ],
      "execution_count": 77,
      "outputs": [
        {
          "output_type": "stream",
          "text": [
            "enter file name: Advertising.csv\n",
            "Shape of data  (200, 5)\n",
            "enter number for 1st row:\n",
            "55\n",
            "enter number for 2nd row:\n",
            "188\n",
            "Required rows: \n",
            " [[ 56.  198.9  49.4  60.   23.7]\n",
            " [189.  286.   13.9   3.7  15.9]]\n"
          ],
          "name": "stdout"
        }
      ]
    },
    {
      "cell_type": "code",
      "metadata": {
        "id": "Vt03y-UZZBG_",
        "colab_type": "code",
        "colab": {}
      },
      "source": [
        " "
      ],
      "execution_count": null,
      "outputs": []
    },
    {
      "cell_type": "code",
      "metadata": {
        "id": "3-V96EVgUclw",
        "colab_type": "code",
        "colab": {
          "base_uri": "https://localhost:8080/",
          "height": 34
        },
        "outputId": "f28073bd-b622-46d7-d7c7-032bba622f32"
      },
      "source": [
        "class DataRead2:\n",
        "  \n",
        "  data = DataRead.read()\n",
        "  \n",
        "  def cor_plt():\n",
        "    matrix = a.corr()\n",
        "    sn.heatmap(matrix,annot=True,center=0, square=True)\n",
        "    plt.show()\n",
        "\n",
        "  def rowsel2():\n",
        "    a = DataRead.read()\n",
        "    a = np.array(a)\n",
        "    print(\"Shape of data \",a.shape)\n",
        "    print(\"enter number for 1st row:\")\n",
        "    x = int(input())\n",
        "    print(\"enter number for 2nd row:\")\n",
        "    y = int(input())\n",
        "    z = int(input(\"enter nummber for third row: \"))\n",
        "\n",
        "    b = np.array([a[x,:], a[y,:], a[z,:]])\n",
        "    return b\n"
      ],
      "execution_count": 96,
      "outputs": [
        {
          "output_type": "stream",
          "text": [
            "enter file name: Advertising.csv\n"
          ],
          "name": "stdout"
        }
      ]
    },
    {
      "cell_type": "code",
      "metadata": {
        "id": "l0J60otMVkLR",
        "colab_type": "code",
        "colab": {
          "base_uri": "https://localhost:8080/",
          "height": 286
        },
        "outputId": "459ba5df-06d6-4a97-a11c-3da573a7a7e3"
      },
      "source": [
        "DataRead2.cor_plt()"
      ],
      "execution_count": 95,
      "outputs": [
        {
          "output_type": "stream",
          "text": [
            "enter file name: Advertising.csv\n"
          ],
          "name": "stdout"
        },
        {
          "output_type": "display_data",
          "data": {
            "image/png": "[encoded data removed]",
            "text/plain": [
              "<Figure size 432x288 with 2 Axes>"
            ]
          },
          "metadata": {
            "tags": [],
            "needs_background": "light"
          }
        }
      ]
    },
    {
      "cell_type": "code",
      "metadata": {
        "id": "79DENIQiVkQY",
        "colab_type": "code",
        "colab": {
          "base_uri": "https://localhost:8080/",
          "height": 187
        },
        "outputId": "ff56b151-b7a0-48a1-e4ec-098d07029935"
      },
      "source": [
        "ans = DataRead2.rowsel2()\n",
        "ans"
      ],
      "execution_count": 97,
      "outputs": [
        {
          "output_type": "stream",
          "text": [
            "enter file name: Advertising.csv\n",
            "Shape of data  (200, 5)\n",
            "enter number for 1st row:\n",
            "55\n",
            "enter number for 2nd row:\n",
            "90\n",
            "enter nummber for third row: 1\n"
          ],
          "name": "stdout"
        },
        {
          "output_type": "execute_result",
          "data": {
            "text/plain": [
              "array([[ 56. , 198.9,  49.4,  60. ,  23.7],\n",
              "       [ 91. , 134.3,   4.9,   9.3,  11.2],\n",
              "       [  2. ,  44.5,  39.3,  45.1,  10.4]])"
            ]
          },
          "metadata": {
            "tags": []
          },
          "execution_count": 97
        }
      ]
    },
    {
      "cell_type": "code",
      "metadata": {
        "id": "qqGBOYMEVkXc",
        "colab_type": "code",
        "colab": {}
      },
      "source": [
        ""
      ],
      "execution_count": null,
      "outputs": []
    },
    {
      "cell_type": "code",
      "metadata": {
        "id": "rAO8f8McVkfC",
        "colab_type": "code",
        "colab": {}
      },
      "source": [
        ""
      ],
      "execution_count": null,
      "outputs": []
    },
    {
      "cell_type": "code",
      "metadata": {
        "id": "Gx74NzPYVkd6",
        "colab_type": "code",
        "colab": {}
      },
      "source": [
        ""
      ],
      "execution_count": null,
      "outputs": []
    },
    {
      "cell_type": "code",
      "metadata": {
        "id": "9OA0xY8WVkax",
        "colab_type": "code",
        "colab": {}
      },
      "source": [
        ""
      ],
      "execution_count": null,
      "outputs": []
    },
    {
      "cell_type": "code",
      "metadata": {
        "id": "qLOmAUMMVkO0",
        "colab_type": "code",
        "colab": {}
      },
      "source": [
        ""
      ],
      "execution_count": null,
      "outputs": []
    }
  ]
}