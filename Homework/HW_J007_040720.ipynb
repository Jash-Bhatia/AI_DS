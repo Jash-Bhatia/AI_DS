{
  "nbformat": 4,
  "nbformat_minor": 0,
  "metadata": {
    "colab": {
      "name": "HW_J007_040720.ipynb",
      "provenance": [],
      "collapsed_sections": []
    },
    "kernelspec": {
      "name": "python3",
      "display_name": "Python 3"
    }
  },
  "cells": [
    {
      "cell_type": "markdown",
      "metadata": {
        "id": "O8UZWyEjb7yM",
        "colab_type": "text"
      },
      "source": [
        "Hackerrank Solutions"
      ]
    },
    {
      "cell_type": "code",
      "metadata": {
        "id": "9BxosZKfcHkj",
        "colab_type": "code",
        "colab": {
          "base_uri": "https://localhost:8080/",
          "height": 34
        },
        "outputId": "c60ce921-e4dc-4f86-c47d-839db4eef1f5"
      },
      "source": [
        "#Q1: print Hello, World!\n",
        "print(\"Hello, World!\")"
      ],
      "execution_count": 1,
      "outputs": [
        {
          "output_type": "stream",
          "text": [
            "Hello, World!\n"
          ],
          "name": "stdout"
        }
      ]
    },
    {
      "cell_type": "code",
      "metadata": {
        "id": "7moV6PbPcTXE",
        "colab_type": "code",
        "colab": {
          "base_uri": "https://localhost:8080/",
          "height": 51
        },
        "outputId": "60e1b5c5-af4e-4e7e-fbcd-db27234e3f9a"
      },
      "source": [
        "#Q2:\n",
        "#Given an integer, , perform the following conditional actions:\n",
        "#If n is odd, print Weird\n",
        "#If n is even and in the inclusive range of  to , print Not Weird\n",
        "#If n, is even and in the inclusive range of  to , print Weird\n",
        "#If n is even and greater than , print Not Weird\n",
        "\n",
        "import math\n",
        "import os\n",
        "import random\n",
        "import re\n",
        "import sys\n",
        "\n",
        "#if __name__ == '__main__':\n",
        "#    n = int(input().strip())\n",
        "\n",
        "n=int(input())\n",
        "if n%2 == 0:\n",
        "    if n>=2 and n<=5:\n",
        "        print(\"Not Weird\")\n",
        "    elif n >20:\n",
        "        print(\"Not Weird\")\n",
        "    else:\n",
        "      print(\"Weird\")\n",
        "else:\n",
        "    print(\"Weird\")\n",
        "\n"
      ],
      "execution_count": 7,
      "outputs": [
        {
          "output_type": "stream",
          "text": [
            "9\n",
            "Weird\n"
          ],
          "name": "stdout"
        }
      ]
    },
    {
      "cell_type": "code",
      "metadata": {
        "id": "sV6cDGdsgyd5",
        "colab_type": "code",
        "colab": {
          "base_uri": "https://localhost:8080/",
          "height": 102
        },
        "outputId": "601b0e90-2496-4f85-f43d-65aea7a931c2"
      },
      "source": [
        "  #Q3:Read two integers from STDIN and print three lines where:\n",
        "\n",
        "#The first line contains the sum of the two numbers.\n",
        "#The second line contains the difference of the two numbers (first - second).\n",
        "#The third line contains the product of the two numbers.\n",
        "\n",
        "a = int(input())\n",
        "b = int(input())\n",
        "\n",
        "print(a+b)\n",
        "print(a-b)\n",
        "print(a*b)"
      ],
      "execution_count": 3,
      "outputs": [
        {
          "output_type": "stream",
          "text": [
            "9\n",
            "6\n",
            "15\n",
            "3\n",
            "54\n"
          ],
          "name": "stdout"
        }
      ]
    },
    {
      "cell_type": "code",
      "metadata": {
        "id": "GPx2aiVawlOi",
        "colab_type": "code",
        "colab": {
          "base_uri": "https://localhost:8080/",
          "height": 85
        },
        "outputId": "67c24082-b6c4-4537-aa9b-40263eb1405d"
      },
      "source": [
        "#Q4:Read two integers and print two lines. The first line should contain integer division, a //b . The second line should contain float division, a /b .\n",
        "#You don't need to perform any rounding or formatting operations.\n",
        "\n",
        "a = int(input())\n",
        "b = int(input())\n",
        "\n",
        "print(a//b)\n",
        "print(a/b)\n"
      ],
      "execution_count": 4,
      "outputs": [
        {
          "output_type": "stream",
          "text": [
            "13\n",
            "3\n",
            "4\n",
            "4.333333333333333\n"
          ],
          "name": "stdout"
        }
      ]
    },
    {
      "cell_type": "code",
      "metadata": {
        "id": "VDVoFEa3xrhB",
        "colab_type": "code",
        "colab": {
          "base_uri": "https://localhost:8080/",
          "height": 170
        },
        "outputId": "e5cbbd47-278d-4436-f57f-c878581dff00"
      },
      "source": [
        "#Q5:Read an integer N. For all non-negative integers i<N, print i^2. See the sample for details.\n",
        "\n",
        "n = int(input())\n",
        "\n",
        "for i in range(0,n):\n",
        "    print(i*i)\n",
        "    i=i+1"
      ],
      "execution_count": 5,
      "outputs": [
        {
          "output_type": "stream",
          "text": [
            "8\n",
            "0\n",
            "1\n",
            "4\n",
            "9\n",
            "16\n",
            "25\n",
            "36\n",
            "49\n"
          ],
          "name": "stdout"
        }
      ]
    },
    {
      "cell_type": "code",
      "metadata": {
        "id": "8BzR09PoMV3T",
        "colab_type": "code",
        "colab": {
          "base_uri": "https://localhost:8080/",
          "height": 102
        },
        "outputId": "d3dc9156-9fc7-413a-8c37-b45ee5d6651c"
      },
      "source": [
        "#Q6:You are given three integers: a, b, m and , respectively. Print two lines.\n",
        "#The first line should print the result of pow(a,b). The second line should print the result of pow(a,b,m).\n",
        "\n",
        "a = int(input())\n",
        "b = int(input())\n",
        "m = int(input())\n",
        "\n",
        "print(pow(a,b))\n",
        "print(pow(a,b,m))\n"
      ],
      "execution_count": 1,
      "outputs": [
        {
          "output_type": "stream",
          "text": [
            "2\n",
            "10\n",
            "9\n",
            "1024\n",
            "7\n"
          ],
          "name": "stdout"
        }
      ]
    }
  ]
}